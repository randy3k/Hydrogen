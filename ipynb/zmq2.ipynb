{
 "cells": [
  {
   "cell_type": "code",
   "execution_count": 1,
   "metadata": {
    "collapsed": false
   },
   "outputs": [],
   "source": [
    "from jupyter_client.manager import start_new_kernel\n",
    "\n",
    "km, kc = start_new_kernel(kernel_name=\"python3\")\n",
    "from queue import Empty\n",
    "\n",
    "def flush_channels():\n",
    "    for channel in (kc.shell_channel, kc.iopub_channel, kc.stdin_channel):\n",
    "        print(channel)\n",
    "        while True:\n",
    "            try:\n",
    "                msg = channel.get_msg(block=True, timeout=0.1)\n",
    "            except Empty:\n",
    "                break\n",
    "            else:\n",
    "                print(msg[\"msg_type\"])\n",
    "                print(\"parent_header\", msg[\"parent_header\"])\n",
    "                print(\"content\", msg[\"content\"])\n",
    "                print(\"\\n\")"
   ]
  },
  {
   "cell_type": "code",
   "execution_count": 2,
   "metadata": {
    "collapsed": false
   },
   "outputs": [
    {
     "name": "stdout",
     "output_type": "stream",
     "text": [
      "<jupyter_client.blocking.channels.ZMQSocketChannel object at 0x10e773f98>\n",
      "kernel_info_reply\n",
      "parent_header {'msg_id': 'e1ebddfe-13dd-4b0d-b666-194826ea8ec5', 'session': '3daa69d7-2e79-4d65-9c23-05c43d276a20', 'version': '5.0', 'msg_type': 'kernel_info_request', 'date': datetime.datetime(2016, 5, 1, 2, 20, 3, 712420), 'username': 'randy'}\n",
      "content {'language_info': {'mimetype': 'text/x-python', 'file_extension': '.py', 'codemirror_mode': {'name': 'ipython', 'version': 3}, 'name': 'python', 'nbconvert_exporter': 'python', 'pygments_lexer': 'ipython3', 'version': '3.4.3'}, 'banner': 'Python 3.4.3 (default, Mar 12 2015, 18:30:59) \\nType \"copyright\", \"credits\" or \"license\" for more information.\\n\\nIPython 4.2.0 -- An enhanced Interactive Python.\\n?         -> Introduction and overview of IPython\\'s features.\\n%quickref -> Quick reference.\\nhelp      -> Python\\'s own help system.\\nobject?   -> Details about \\'object\\', use \\'object??\\' for extra details.\\n', 'implementation_version': '4.2.0', 'protocol_version': '5.0', 'implementation': 'ipython', 'help_links': [{'text': 'Python', 'url': 'http://docs.python.org/3.4'}, {'text': 'IPython', 'url': 'http://ipython.org/documentation.html'}, {'text': 'NumPy', 'url': 'http://docs.scipy.org/doc/numpy/reference/'}, {'text': 'SciPy', 'url': 'http://docs.scipy.org/doc/scipy/reference/'}, {'text': 'Matplotlib', 'url': 'http://matplotlib.org/contents.html'}, {'text': 'SymPy', 'url': 'http://docs.sympy.org/latest/index.html'}, {'text': 'pandas', 'url': 'http://pandas.pydata.org/pandas-docs/stable/'}]}\n",
      "\n",
      "\n",
      "<jupyter_client.blocking.channels.ZMQSocketChannel object at 0x10e773f28>\n",
      "status\n",
      "parent_header {'msg_id': 'e1ebddfe-13dd-4b0d-b666-194826ea8ec5', 'session': '3daa69d7-2e79-4d65-9c23-05c43d276a20', 'version': '5.0', 'msg_type': 'kernel_info_request', 'date': datetime.datetime(2016, 5, 1, 2, 20, 3, 712420), 'username': 'randy'}\n",
      "content {'execution_state': 'busy'}\n",
      "\n",
      "\n",
      "status\n",
      "parent_header {'msg_id': 'e1ebddfe-13dd-4b0d-b666-194826ea8ec5', 'session': '3daa69d7-2e79-4d65-9c23-05c43d276a20', 'version': '5.0', 'msg_type': 'kernel_info_request', 'date': datetime.datetime(2016, 5, 1, 2, 20, 3, 712420), 'username': 'randy'}\n",
      "content {'execution_state': 'idle'}\n",
      "\n",
      "\n",
      "<jupyter_client.blocking.channels.ZMQSocketChannel object at 0x10e773c18>\n"
     ]
    }
   ],
   "source": [
    "msg_id = kc.kernel_info()\n",
    "flush_channels()"
   ]
  },
  {
   "cell_type": "code",
   "execution_count": 38,
   "metadata": {
    "collapsed": false
   },
   "outputs": [],
   "source": [
    "msg_id = kc.execute(\"x = 1 \\nx\")"
   ]
  },
  {
   "cell_type": "code",
   "execution_count": 39,
   "metadata": {
    "collapsed": false
   },
   "outputs": [
    {
     "name": "stdout",
     "output_type": "stream",
     "text": [
      "<jupyter_client.blocking.channels.ZMQSocketChannel object at 0x10e773f98>\n",
      "execute_reply\n",
      "parent_header {'msg_id': '770f0fea-8f18-418b-b427-47b748ee4221', 'session': '3daa69d7-2e79-4d65-9c23-05c43d276a20', 'version': '5.0', 'msg_type': 'execute_request', 'date': datetime.datetime(2016, 5, 1, 2, 26, 6, 908852), 'username': 'randy'}\n",
      "content {'payload': [], 'user_expressions': {}, 'execution_count': 13, 'status': 'ok'}\n",
      "\n",
      "\n",
      "<jupyter_client.blocking.channels.ZMQSocketChannel object at 0x10e773f28>\n",
      "status\n",
      "parent_header {'msg_id': '770f0fea-8f18-418b-b427-47b748ee4221', 'session': '3daa69d7-2e79-4d65-9c23-05c43d276a20', 'version': '5.0', 'msg_type': 'execute_request', 'date': datetime.datetime(2016, 5, 1, 2, 26, 6, 908852), 'username': 'randy'}\n",
      "content {'execution_state': 'busy'}\n",
      "\n",
      "\n",
      "execute_input\n",
      "parent_header {'msg_id': '770f0fea-8f18-418b-b427-47b748ee4221', 'session': '3daa69d7-2e79-4d65-9c23-05c43d276a20', 'version': '5.0', 'msg_type': 'execute_request', 'date': datetime.datetime(2016, 5, 1, 2, 26, 6, 908852), 'username': 'randy'}\n",
      "content {'code': 'x = 1 \\nx', 'execution_count': 13}\n",
      "\n",
      "\n",
      "execute_result\n",
      "parent_header {'msg_id': '770f0fea-8f18-418b-b427-47b748ee4221', 'session': '3daa69d7-2e79-4d65-9c23-05c43d276a20', 'version': '5.0', 'msg_type': 'execute_request', 'date': datetime.datetime(2016, 5, 1, 2, 26, 6, 908852), 'username': 'randy'}\n",
      "content {'metadata': {}, 'data': {'text/plain': '1'}, 'execution_count': 13}\n",
      "\n",
      "\n",
      "status\n",
      "parent_header {'msg_id': '770f0fea-8f18-418b-b427-47b748ee4221', 'session': '3daa69d7-2e79-4d65-9c23-05c43d276a20', 'version': '5.0', 'msg_type': 'execute_request', 'date': datetime.datetime(2016, 5, 1, 2, 26, 6, 908852), 'username': 'randy'}\n",
      "content {'execution_state': 'idle'}\n",
      "\n",
      "\n",
      "<jupyter_client.blocking.channels.ZMQSocketChannel object at 0x10e773c18>\n"
     ]
    }
   ],
   "source": [
    "flush_channels()"
   ]
  },
  {
   "cell_type": "code",
   "execution_count": 42,
   "metadata": {
    "collapsed": false
   },
   "outputs": [
    {
     "name": "stdout",
     "output_type": "stream",
     "text": [
      "<jupyter_client.blocking.channels.ZMQSocketChannel object at 0x10e773f98>\n",
      "execute_reply\n",
      "parent_header {'msg_id': '90b65c97-c493-45b9-a380-0a8e7e036a86', 'session': '3daa69d7-2e79-4d65-9c23-05c43d276a20', 'version': '5.0', 'msg_type': 'execute_request', 'date': datetime.datetime(2016, 5, 1, 2, 28, 47, 776163), 'username': 'randy'}\n",
      "content {'payload': [], 'user_expressions': {}, 'execution_count': 15, 'status': 'ok'}\n",
      "\n",
      "\n",
      "execute_reply\n",
      "parent_header {'msg_id': '14ec55f0-d32a-4603-a3df-70d901d2a69b', 'session': '3daa69d7-2e79-4d65-9c23-05c43d276a20', 'version': '5.0', 'msg_type': 'execute_request', 'date': datetime.datetime(2016, 5, 1, 2, 28, 47, 776836), 'username': 'randy'}\n",
      "content {'payload': [], 'user_expressions': {}, 'execution_count': 16, 'status': 'ok'}\n",
      "\n",
      "\n",
      "<jupyter_client.blocking.channels.ZMQSocketChannel object at 0x10e773f28>\n",
      "status\n",
      "parent_header {'msg_id': '90b65c97-c493-45b9-a380-0a8e7e036a86', 'session': '3daa69d7-2e79-4d65-9c23-05c43d276a20', 'version': '5.0', 'msg_type': 'execute_request', 'date': datetime.datetime(2016, 5, 1, 2, 28, 47, 776163), 'username': 'randy'}\n",
      "content {'execution_state': 'busy'}\n",
      "\n",
      "\n",
      "execute_input\n",
      "parent_header {'msg_id': '90b65c97-c493-45b9-a380-0a8e7e036a86', 'session': '3daa69d7-2e79-4d65-9c23-05c43d276a20', 'version': '5.0', 'msg_type': 'execute_request', 'date': datetime.datetime(2016, 5, 1, 2, 28, 47, 776163), 'username': 'randy'}\n",
      "content {'code': 'x = 1 \\nx', 'execution_count': 15}\n",
      "\n",
      "\n",
      "execute_result\n",
      "parent_header {'msg_id': '90b65c97-c493-45b9-a380-0a8e7e036a86', 'session': '3daa69d7-2e79-4d65-9c23-05c43d276a20', 'version': '5.0', 'msg_type': 'execute_request', 'date': datetime.datetime(2016, 5, 1, 2, 28, 47, 776163), 'username': 'randy'}\n",
      "content {'metadata': {}, 'data': {'text/plain': '1'}, 'execution_count': 15}\n",
      "\n",
      "\n",
      "status\n",
      "parent_header {'msg_id': '90b65c97-c493-45b9-a380-0a8e7e036a86', 'session': '3daa69d7-2e79-4d65-9c23-05c43d276a20', 'version': '5.0', 'msg_type': 'execute_request', 'date': datetime.datetime(2016, 5, 1, 2, 28, 47, 776163), 'username': 'randy'}\n",
      "content {'execution_state': 'idle'}\n",
      "\n",
      "\n",
      "status\n",
      "parent_header {'msg_id': '14ec55f0-d32a-4603-a3df-70d901d2a69b', 'session': '3daa69d7-2e79-4d65-9c23-05c43d276a20', 'version': '5.0', 'msg_type': 'execute_request', 'date': datetime.datetime(2016, 5, 1, 2, 28, 47, 776836), 'username': 'randy'}\n",
      "content {'execution_state': 'busy'}\n",
      "\n",
      "\n",
      "execute_input\n",
      "parent_header {'msg_id': '14ec55f0-d32a-4603-a3df-70d901d2a69b', 'session': '3daa69d7-2e79-4d65-9c23-05c43d276a20', 'version': '5.0', 'msg_type': 'execute_request', 'date': datetime.datetime(2016, 5, 1, 2, 28, 47, 776836), 'username': 'randy'}\n",
      "content {'code': 'y = 2 \\ny', 'execution_count': 16}\n",
      "\n",
      "\n",
      "execute_result\n",
      "parent_header {'msg_id': '14ec55f0-d32a-4603-a3df-70d901d2a69b', 'session': '3daa69d7-2e79-4d65-9c23-05c43d276a20', 'version': '5.0', 'msg_type': 'execute_request', 'date': datetime.datetime(2016, 5, 1, 2, 28, 47, 776836), 'username': 'randy'}\n",
      "content {'metadata': {}, 'data': {'text/plain': '2'}, 'execution_count': 16}\n",
      "\n",
      "\n",
      "status\n",
      "parent_header {'msg_id': '14ec55f0-d32a-4603-a3df-70d901d2a69b', 'session': '3daa69d7-2e79-4d65-9c23-05c43d276a20', 'version': '5.0', 'msg_type': 'execute_request', 'date': datetime.datetime(2016, 5, 1, 2, 28, 47, 776836), 'username': 'randy'}\n",
      "content {'execution_state': 'idle'}\n",
      "\n",
      "\n",
      "<jupyter_client.blocking.channels.ZMQSocketChannel object at 0x10e773c18>\n"
     ]
    }
   ],
   "source": [
    "msg_id = kc.execute(\"x = 1 \\nx\")\n",
    "msg_id = kc.execute(\"y = 2 \\ny\")\n",
    "flush_channels()"
   ]
  },
  {
   "cell_type": "code",
   "execution_count": 7,
   "metadata": {
    "collapsed": false
   },
   "outputs": [
    {
     "name": "stdout",
     "output_type": "stream",
     "text": [
      "<jupyter_client.blocking.channels.ZMQSocketChannel object at 0x10e773f98>\n",
      "inspect_reply\n",
      "parent_header {'msg_id': '7ff2c7cb-f686-4f34-aeff-42f098349a49', 'session': '3daa69d7-2e79-4d65-9c23-05c43d276a20', 'version': '5.0', 'msg_type': 'inspect_request', 'date': datetime.datetime(2016, 5, 1, 2, 20, 4, 700858), 'username': 'randy'}\n",
      "content {'metadata': {}, 'found': True, 'data': {'text/plain': \"\\x1b[0;31mType:        \\x1b[0mint\\n\\x1b[0;31mString form: \\x1b[0m1\\n\\x1b[0;31mDocstring:\\x1b[0m\\nint(x=0) -> integer\\nint(x, base=10) -> integer\\n\\nConvert a number or string to an integer, or return 0 if no arguments\\nare given.  If x is a number, return x.__int__().  For floating point\\nnumbers, this truncates towards zero.\\n\\nIf x is not a number or if base is given, then x must be a string,\\nbytes, or bytearray instance representing an integer literal in the\\ngiven base.  The literal can be preceded by '+' or '-' and be surrounded\\nby whitespace.  The base defaults to 10.  Valid bases are 0 and 2-36.\\nBase 0 means to interpret the base from the string as an integer literal.\\n>>> int('0b100', base=0)\\n4\"}, 'status': 'ok'}\n",
      "\n",
      "\n",
      "<jupyter_client.blocking.channels.ZMQSocketChannel object at 0x10e773f28>\n",
      "status\n",
      "parent_header {'msg_id': '7ff2c7cb-f686-4f34-aeff-42f098349a49', 'session': '3daa69d7-2e79-4d65-9c23-05c43d276a20', 'version': '5.0', 'msg_type': 'inspect_request', 'date': datetime.datetime(2016, 5, 1, 2, 20, 4, 700858), 'username': 'randy'}\n",
      "content {'execution_state': 'busy'}\n",
      "\n",
      "\n",
      "status\n",
      "parent_header {'msg_id': '7ff2c7cb-f686-4f34-aeff-42f098349a49', 'session': '3daa69d7-2e79-4d65-9c23-05c43d276a20', 'version': '5.0', 'msg_type': 'inspect_request', 'date': datetime.datetime(2016, 5, 1, 2, 20, 4, 700858), 'username': 'randy'}\n",
      "content {'execution_state': 'idle'}\n",
      "\n",
      "\n",
      "<jupyter_client.blocking.channels.ZMQSocketChannel object at 0x10e773c18>\n"
     ]
    }
   ],
   "source": [
    "kc.inspect(\"x\")\n",
    "flush_channels()"
   ]
  },
  {
   "cell_type": "code",
   "execution_count": 8,
   "metadata": {
    "collapsed": false
   },
   "outputs": [
    {
     "data": {
      "text/plain": [
       "True"
      ]
     },
     "execution_count": 8,
     "metadata": {},
     "output_type": "execute_result"
    }
   ],
   "source": [
    "km.is_alive()"
   ]
  },
  {
   "cell_type": "code",
   "execution_count": 40,
   "metadata": {
    "collapsed": false
   },
   "outputs": [
    {
     "name": "stdout",
     "output_type": "stream",
     "text": [
      "0dee4ec0-6211-409d-bd36-a547877511e3\n",
      "<jupyter_client.blocking.channels.ZMQSocketChannel object at 0x10e773f98>\n",
      "<jupyter_client.blocking.channels.ZMQSocketChannel object at 0x10e773f28>\n",
      "status\n",
      "parent_header {'msg_id': '0dee4ec0-6211-409d-bd36-a547877511e3', 'session': '3daa69d7-2e79-4d65-9c23-05c43d276a20', 'version': '5.0', 'msg_type': 'execute_request', 'date': datetime.datetime(2016, 5, 1, 2, 26, 27, 933866), 'username': 'randy'}\n",
      "content {'execution_state': 'busy'}\n",
      "\n",
      "\n",
      "execute_input\n",
      "parent_header {'msg_id': '0dee4ec0-6211-409d-bd36-a547877511e3', 'session': '3daa69d7-2e79-4d65-9c23-05c43d276a20', 'version': '5.0', 'msg_type': 'execute_request', 'date': datetime.datetime(2016, 5, 1, 2, 26, 27, 933866), 'username': 'randy'}\n",
      "content {'code': \"\\n%matplotlib inline\\nimport numpy as np\\nimport matplotlib.pyplot as plt\\nx = np.linspace(0, 2 * np.pi, 200)\\ny = np.exp(np.sin(np.sin(x)))\\n\\n# Make plot\\nplt.plot(x, y)\\nplt.xlim((0, 2 * np.pi))\\nplt.xlabel(r'$x$')\\nplt.ylabel(r'$\\\\mathrm{e}^{\\\\sin{x}}$')\\n\", 'execution_count': 14}\n",
      "\n",
      "\n",
      "execute_result\n",
      "parent_header {'msg_id': '0dee4ec0-6211-409d-bd36-a547877511e3', 'session': '3daa69d7-2e79-4d65-9c23-05c43d276a20', 'version': '5.0', 'msg_type': 'execute_request', 'date': datetime.datetime(2016, 5, 1, 2, 26, 27, 933866), 'username': 'randy'}\n",
      "content {'metadata': {}, 'data': {'text/plain': '<matplotlib.text.Text at 0x10f5d04a8>'}, 'execution_count': 14}\n",
      "\n",
      "\n",
      "<jupyter_client.blocking.channels.ZMQSocketChannel object at 0x10e773c18>\n"
     ]
    }
   ],
   "source": [
    "msg_id = kc.execute(\"\"\"\n",
    "%matplotlib inline\n",
    "import numpy as np\n",
    "import matplotlib.pyplot as plt\n",
    "x = np.linspace(0, 2 * np.pi, 200)\n",
    "y = np.exp(np.sin(np.sin(x)))\n",
    "\n",
    "# Make plot\n",
    "plt.plot(x, y)\n",
    "plt.xlim((0, 2 * np.pi))\n",
    "plt.xlabel(r'$x$')\n",
    "plt.ylabel(r'$\\mathrm{e}^{\\sin{x}}$')\n",
    "\"\"\")\n",
    "print(msg_id)\n",
    "flush_channels()"
   ]
  },
  {
   "cell_type": "code",
   "execution_count": 41,
   "metadata": {
    "collapsed": false
   },
   "outputs": [
    {
     "name": "stdout",
     "output_type": "stream",
     "text": [
      "<jupyter_client.blocking.channels.ZMQSocketChannel object at 0x10e773f98>\n",
      "execute_reply\n",
      "parent_header {'msg_id': '0dee4ec0-6211-409d-bd36-a547877511e3', 'session': '3daa69d7-2e79-4d65-9c23-05c43d276a20', 'version': '5.0', 'msg_type': 'execute_request', 'date': datetime.datetime(2016, 5, 1, 2, 26, 27, 933866), 'username': 'randy'}\n",
      "content {'payload': [], 'user_expressions': {}, 'execution_count': 14, 'status': 'ok'}\n",
      "\n",
      "\n",
      "<jupyter_client.blocking.channels.ZMQSocketChannel object at 0x10e773f28>\n",
      "display_data\n",
      "parent_header {'msg_id': '0dee4ec0-6211-409d-bd36-a547877511e3', 'session': '3daa69d7-2e79-4d65-9c23-05c43d276a20', 'version': '5.0', 'msg_type': 'execute_request', 'date': datetime.datetime(2016, 5, 1, 2, 26, 27, 933866), 'username': 'randy'}\n",
      "content {'metadata': {}, 'data': {'text/plain': '<matplotlib.figure.Figure at 0x10f234fd0>', 'image/png': 'iVBORw0KGgoAAAANSUhEUgAAAYMAAAEPCAYAAACgFqixAAAABHNCSVQICAgIfAhkiAAAAAlwSFlz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\\nIoKKgYiIAP8PmOqvWfcHKvMAAAAASUVORK5CYII=\\n'}}\n",
      "\n",
      "\n",
      "status\n",
      "parent_header {'msg_id': '0dee4ec0-6211-409d-bd36-a547877511e3', 'session': '3daa69d7-2e79-4d65-9c23-05c43d276a20', 'version': '5.0', 'msg_type': 'execute_request', 'date': datetime.datetime(2016, 5, 1, 2, 26, 27, 933866), 'username': 'randy'}\n",
      "content {'execution_state': 'idle'}\n",
      "\n",
      "\n",
      "<jupyter_client.blocking.channels.ZMQSocketChannel object at 0x10e773c18>\n"
     ]
    }
   ],
   "source": [
    "flush_channels()"
   ]
  },
  {
   "cell_type": "code",
   "execution_count": 2,
   "metadata": {
    "collapsed": false
   },
   "outputs": [
    {
     "data": {
      "text/plain": [
       "'/Users/Randy/Library/Jupyter/runtime/kernel-d7abf33d-5dc0-49df-bfe9-ce9f63253c8f.json'"
      ]
     },
     "execution_count": 2,
     "metadata": {},
     "output_type": "execute_result"
    }
   ],
   "source": [
    "from jupyter_client.connect import find_connection_file\n",
    "find_connection_file()"
   ]
  },
  {
   "cell_type": "code",
   "execution_count": 1,
   "metadata": {
    "collapsed": false
   },
   "outputs": [
    {
     "name": "stdout",
     "output_type": "stream",
     "text": [
      "{\n",
      "  \"signature_scheme\": \"hmac-sha256\",\n",
      "  \"kernel_name\": \"\",\n",
      "  \"transport\": \"tcp\",\n",
      "  \"hb_port\": 63164,\n",
      "  \"iopub_port\": 63161,\n",
      "  \"control_port\": 63163,\n",
      "  \"stdin_port\": 63162,\n",
      "  \"key\": \"a101d0ac-4876-4e13-bf7a-25d577eec883\",\n",
      "  \"ip\": \"127.0.0.1\",\n",
      "  \"shell_port\": 63160\n",
      "}\n",
      "\n",
      "Paste the above JSON into a file, and connect with:\n",
      "    $> ipython <app> --existing <file>\n",
      "or, if you are local, you can connect with just:\n",
      "    $> ipython <app> --existing /Users/Randy/Library/Jupyter/runtime/kernel-d7abf33d-5dc0-49df-bfe9-ce9f63253c8f.json \n",
      "or even just:\n",
      "    $> ipython <app> --existing \n",
      "if this is the most recent IPython session you have started.\n"
     ]
    }
   ],
   "source": [
    "%connect_info"
   ]
  },
  {
   "cell_type": "code",
   "execution_count": 11,
   "metadata": {
    "collapsed": true
   },
   "outputs": [],
   "source": [
    "#kc.stop_channels()\n",
    "#km.shutdown_kernel()"
   ]
  }
 ],
 "metadata": {
  "kernelspec": {
   "display_name": "Python 3",
   "language": "python",
   "name": "python3"
  },
  "language_info": {
   "codemirror_mode": {
    "name": "ipython",
    "version": 3
   },
   "file_extension": ".py",
   "mimetype": "text/x-python",
   "name": "python",
   "nbconvert_exporter": "python",
   "pygments_lexer": "ipython3",
   "version": "3.4.3"
  }
 },
 "nbformat": 4,
 "nbformat_minor": 0
}
